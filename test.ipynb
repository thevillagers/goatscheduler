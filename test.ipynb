{
 "metadata": {
  "language_info": {
   "codemirror_mode": {
    "name": "ipython",
    "version": 3
   },
   "file_extension": ".py",
   "mimetype": "text/x-python",
   "name": "python",
   "nbconvert_exporter": "python",
   "pygments_lexer": "ipython3",
   "version": "3.8.5-final"
  },
  "orig_nbformat": 2,
  "kernelspec": {
   "name": "python3",
   "display_name": "Python 3.8.5 64-bit ('base': conda)",
   "metadata": {
    "interpreter": {
     "hash": "2580690ec0291cba1a89ff02b6036d15aef902abab6b762b74114de244b95162"
    }
   }
  }
 },
 "nbformat": 4,
 "nbformat_minor": 2,
 "cells": [
  {
   "cell_type": "code",
   "execution_count": 1,
   "metadata": {
    "tags": []
   },
   "outputs": [
    {
     "output_type": "stream",
     "name": "stdout",
     "text": [
      "[7]\n[5, 3]\n[5, 3]\n[25, 25, 25, 25]\n"
     ]
    }
   ],
   "source": [
    "def bestSum(targetSum, numbers, memo={}):\n",
    "    if targetSum in memo: return memo[targetSum]\n",
    "    if targetSum == 0: return []\n",
    "    if targetSum < 0: return None\n",
    "\n",
    "    shortest_comb = None\n",
    "\n",
    "    for num in numbers:\n",
    "        remainder = targetSum - num \n",
    "        remainder_comb = bestSum(remainder, numbers, memo)\n",
    "        if remainder_comb is not None:\n",
    "            combination = list(remainder_comb)\n",
    "            combination.append(num)\n",
    "            if shortest_comb is None or len(combination) < len(shortest_comb):\n",
    "                shortest_comb = combination\n",
    "\n",
    "    memo[targetSum] = shortest_comb\n",
    "    return memo[targetSum]\n",
    "        \n",
    "\n",
    "\n",
    "\n",
    "print(bestSum(7, [5,3,4,7]))\n",
    "print(bestSum(8, [2,3,5]))\n",
    "print(bestSum(8, [1,4,5]))\n",
    "print(bestSum(100, [1,2,5,25]))"
   ]
  },
  {
   "cell_type": "code",
   "execution_count": 2,
   "metadata": {},
   "outputs": [
    {
     "output_type": "execute_result",
     "data": {
      "text/plain": [
       "[]"
      ]
     },
     "metadata": {},
     "execution_count": 2
    }
   ],
   "source": [
    "list([])"
   ]
  },
  {
   "cell_type": "code",
   "execution_count": 3,
   "metadata": {},
   "outputs": [
    {
     "output_type": "execute_result",
     "data": {
      "text/plain": [
       "True"
      ]
     },
     "metadata": {},
     "execution_count": 3
    }
   ],
   "source": [
    "def canConstruct(word, pieces, memo={}):\n",
    "    if word == '': return True \n",
    "    if word in memo: return memo[word]\n",
    "    for piece in pieces:\n",
    "        idx = word.find(piece)\n",
    "        if idx != -1:\n",
    "            new_word = word[0:idx] + word[idx+len(piece):]\n",
    "            if canConstruct(new_word, pieces, memo):\n",
    "                memo[word] = True\n",
    "                return True \n",
    "    memo[word] = False\n",
    "    return False\n",
    "\n",
    "canConstruct('hello', ['a', 'hel', 'he', 'll', 'o'])"
   ]
  },
  {
   "cell_type": "code",
   "execution_count": 4,
   "metadata": {},
   "outputs": [
    {
     "output_type": "execute_result",
     "data": {
      "text/plain": [
       "False"
      ]
     },
     "metadata": {},
     "execution_count": 4
    }
   ],
   "source": [
    "canConstruct('eeeeeeeeeeeeeeeeeeeeeeeeeeeeeeeeeeeeeeeeeef', ['e', 'ee', 'eee', 'eeeee', 'eeeeeee', 'eeeeeeee'])"
   ]
  },
  {
   "cell_type": "code",
   "execution_count": 5,
   "metadata": {},
   "outputs": [
    {
     "output_type": "stream",
     "name": "stdout",
     "text": [
      "33\n67233253880\n"
     ]
    }
   ],
   "source": [
    "def countConstruct(word, pieces, memo={}):\n",
    "    if word == '': return 1 \n",
    "    if word in memo: return memo[word]\n",
    "    total_ways = 0\n",
    "    for piece in pieces:\n",
    "        idx = word.find(piece)\n",
    "        if idx != -1:\n",
    "            new_word = word[0:idx] + word[idx+len(piece):]\n",
    "            total_ways += countConstruct(new_word, pieces, memo)\n",
    "    memo[word] = total_ways \n",
    "    return total_ways \n",
    "\n",
    "print(countConstruct('purple', ['purple', 'purpl', 'e', 'pu', 'rp', 'l', 'le']))\n",
    "print(countConstruct('eeeeeeeeeeeeeeeeeeeeeeeeeeeeeeeeeeeeef', ['e', 'ee', 'eee', 'eeeee', 'eeeeeee', 'eef']))"
   ]
  },
  {
   "cell_type": "code",
   "execution_count": 6,
   "metadata": {},
   "outputs": [
    {
     "output_type": "stream",
     "name": "stdout",
     "text": [
      "33\n"
     ]
    }
   ],
   "source": [
    "print(countConstruct('purple', ['purple']))"
   ]
  },
  {
   "cell_type": "code",
   "execution_count": 7,
   "metadata": {},
   "outputs": [
    {
     "output_type": "stream",
     "name": "stdout",
     "text": [
      "[]\n0\n"
     ]
    }
   ],
   "source": [
    "def allConstruct(word, pieces, memo={}):\n",
    "    if word in memo: return memo[word]\n",
    "    if word == '': return [[]]\n",
    "    ways = []\n",
    "    for piece in pieces:\n",
    "        idx = word.find(piece)\n",
    "        if idx != -1:\n",
    "            new_word = word[0:idx] + word[idx+len(piece):]\n",
    "            new_word_ways = allConstruct(new_word, pieces, memo)\n",
    "            for new_way in new_word_ways:\n",
    "                my_way = list(new_way)\n",
    "                my_way.append(piece)\n",
    "                ways.append(my_way)\n",
    "            \n",
    "    memo[word] = ways\n",
    "    return ways\n",
    "\n",
    "print(allConstruct('hello', ['cat', 'dog', 'mouse']))\n",
    "print(len(allConstruct('hello', ['hello', 'hel', 'lo', 'he', 'l', 'o'])))"
   ]
  },
  {
   "cell_type": "code",
   "execution_count": 9,
   "metadata": {},
   "outputs": [
    {
     "output_type": "stream",
     "name": "stdout",
     "text": [
      "2386\n2386\n"
     ]
    }
   ],
   "source": [
    "print(countConstruct('eeeeeeeeeeeef', ['e', 'ee', 'eee', 'eeeee', 'eeeeeee', 'eef']))\n",
    "print(len(allConstruct('eeeeeeeeeeeef', ['e', 'ee', 'eee', 'eeeee', 'eeeeeee', 'eef'])))"
   ]
  },
  {
   "cell_type": "code",
   "execution_count": null,
   "metadata": {},
   "outputs": [],
   "source": []
  }
 ]
}